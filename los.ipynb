{
 "cells": [
  {
   "cell_type": "code",
   "execution_count": 2,
   "metadata": {},
   "outputs": [
    {
     "name": "stdout",
     "output_type": "stream",
     "text": [
      "Collecting numpy==2.1.2\n",
      "  Using cached numpy-2.1.2-cp312-cp312-macosx_14_0_arm64.whl.metadata (60 kB)\n",
      "Using cached numpy-2.1.2-cp312-cp312-macosx_14_0_arm64.whl (5.1 MB)\n",
      "Installing collected packages: numpy\n",
      "Successfully installed numpy-2.1.2\n"
     ]
    }
   ],
   "source": [
    "!pip install numpy==2.1.2\n"
   ]
  },
  {
   "cell_type": "code",
   "execution_count": 3,
   "metadata": {},
   "outputs": [],
   "source": [
    "import pickle\n",
    "import numpy as np\n",
    "import pandas as pd\n",
    "import random\n",
    "import json\n",
    "import time\n",
    "import matplotlib.pyplot as plt\n",
    "import seaborn as sns"
   ]
  },
  {
   "cell_type": "code",
   "execution_count": 4,
   "metadata": {},
   "outputs": [
    {
     "name": "stdout",
     "output_type": "stream",
     "text": [
      "Number of synthetic trajectories: 1500000\n",
      "<class 'list'>\n",
      "(1500000, 4)\n",
      "1500000\n"
     ]
    }
   ],
   "source": [
    "attr_path = 'pickleFiles/trajectory_meta.pkl'\n",
    "with open(attr_path, 'rb') as f:\n",
    "    attrs = pickle.load(f)\n",
    "\n",
    "# Load the trajectories\n",
    "trajs_path= 'pickleFiles/trajectories.pkl'\n",
    "with open(trajs_path, 'rb') as f:\n",
    "    trajs = pickle.load(f)\n",
    "\n",
    "attrs = np.array(attrs)\n",
    "\n",
    "print('Number of synthetic trajectories: {:d}'.format(len(attrs)))\n",
    "print(type(trajs))\n",
    "print(attrs.shape)\n",
    "print(len(trajs))"
   ]
  },
  {
   "cell_type": "code",
   "execution_count": 25,
   "metadata": {},
   "outputs": [
    {
     "name": "stdout",
     "output_type": "stream",
     "text": [
      "Found existing installation: numpy 2.1.2\n",
      "Uninstalling numpy-2.1.2:\n",
      "  Successfully uninstalled numpy-2.1.2\n"
     ]
    }
   ],
   "source": [
    "!pip uninstall numpy -y"
   ]
  },
  {
   "cell_type": "code",
   "execution_count": 34,
   "metadata": {},
   "outputs": [
    {
     "name": "stdout",
     "output_type": "stream",
     "text": [
      "usage: conda init [-h] [--all] [--user] [--no-user] [--system] [--reverse]\n",
      "                  [--json] [-v] [-q] [-d]\n",
      "                  [SHELLS ...]\n",
      "conda init: error: argument SHELLS: invalid choice: '/Users/ashif/miniconda3' (choose from 'bash', 'fish', 'tcsh', 'xonsh', 'zsh', 'powershell')\n",
      "\n",
      "CondaError: Run 'conda init' before 'conda activate'\n",
      "\n"
     ]
    }
   ],
   "source": [
    "!conda init /Users/ashif/miniconda3\n",
    "!conda activate /Users/ashif/miniconda3"
   ]
  },
  {
   "cell_type": "code",
   "execution_count": null,
   "metadata": {},
   "outputs": [],
   "source": []
  }
 ],
 "metadata": {
  "kernelspec": {
   "display_name": "Python 3",
   "language": "python",
   "name": "python3"
  },
  "language_info": {
   "codemirror_mode": {
    "name": "ipython",
    "version": 3
   },
   "file_extension": ".py",
   "mimetype": "text/x-python",
   "name": "python",
   "nbconvert_exporter": "python",
   "pygments_lexer": "ipython3",
   "version": "3.12.2"
  }
 },
 "nbformat": 4,
 "nbformat_minor": 2
}
